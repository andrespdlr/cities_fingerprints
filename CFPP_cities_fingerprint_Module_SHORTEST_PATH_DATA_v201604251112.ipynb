{
 "cells": [
  {
   "cell_type": "markdown",
   "metadata": {},
   "source": [
    "                                        ##############################\n",
    "                                        #   **Cities Fingerprint**   #\n",
    "                                        #     Shortest Path Data     #                                                  \n",
    "                                        #                            #\n",
    "                                        #   \t\t  codename: k1   #\n",
    "                                        #                            #\n",
    "                                        #   version = 201604251112   #\n",
    "                                        #    Issues known: none      #\n",
    "                                        #                            #\n",
    "                                        #   A script by AndresPDLR   #\n",
    "                                        ##############################\n",
    "\n",
    "\n",
    "    This program performs statistical analysis over city simulation made\n",
    "    by Module_SHORTEST_PATHS"
   ]
  },
  {
   "cell_type": "markdown",
   "metadata": {},
   "source": [
    "<div class=\"alert alert-success\">\n",
    "**Requirements**\n",
    "\n",
    "</div>"
   ]
  },
  {
   "cell_type": "code",
   "execution_count": 1,
   "metadata": {
    "collapsed": false
   },
   "outputs": [],
   "source": [
    "import numpy as np\n",
    "import pandas as pd\n",
    "import matplotlib.pyplot as plt\n",
    "% matplotlib inline\n",
    "plt.style.use('ggplot')\n",
    "\n",
    "import statsmodels.api as sm\n",
    "import math as mt\n",
    "import datetime\n",
    "import ast\n",
    "from sys import argv\n",
    "import csv\n",
    "import os\n",
    "from simpledbf import Dbf5\n",
    "import scipy\n",
    "import statistics as st\n",
    "\n",
    "from localidades_100k import localidades_100k_dictionary\n",
    "from localidades import localidades_dictionary"
   ]
  },
  {
   "cell_type": "code",
   "execution_count": 2,
   "metadata": {
    "collapsed": false
   },
   "outputs": [
    {
     "name": "stdout",
     "output_type": "stream",
     "text": [
      "0.6169473816526283\n"
     ]
    }
   ],
   "source": [
    "poblacion_localidades_100k = sum(localidades_100k_dictionary.values())\n",
    "poblacion_urbana = sum(localidades_dictionary.values())\n",
    "\n",
    "print(poblacion_localidades_100k / poblacion_urbana)"
   ]
  },
  {
   "cell_type": "markdown",
   "metadata": {},
   "source": [
    "<div class=\"alert alert-success\">\n",
    "**Functions**\n",
    "</div>"
   ]
  },
  {
   "cell_type": "code",
   "execution_count": 3,
   "metadata": {
    "collapsed": true
   },
   "outputs": [],
   "source": [
    "def de_string_list(list_as_string):\n",
    "    ''' Transform string representation of list to list '''\n",
    "    if type(list_as_string) != list:\n",
    "        try:\n",
    "            list_as_list = ast.literal_eval(list_as_string)\n",
    "            return list_as_list\n",
    "        except ValueError:\n",
    "            return list_as_string\n",
    "    else:\n",
    "        return list_as_string"
   ]
  },
  {
   "cell_type": "code",
   "execution_count": 4,
   "metadata": {
    "collapsed": false
   },
   "outputs": [],
   "source": [
    "def beta_city(localidad):\n",
    "    '''\n",
    "    >> Performs distance analysis over a city landscape\n",
    "    \n",
    "    Input:\n",
    "        - localidad\n",
    "    \n",
    "    Output:\n",
    "        - plot\n",
    "        - csv with average distances\n",
    "        - beta & R2\n",
    "    '''\n",
    "    try:\n",
    "        df_simulation = pd.read_csv('{}_simulation_results.csv'.format(localidad), header=None, names=['G_FID', 'Distances'])\n",
    "        df_simulation = df_simulation.dropna()\n",
    "        df_simulation['G_FID'] = df_simulation['G_FID'].apply(de_string_list)\n",
    "        df_simulation['Distances'] = df_simulation['Distances'].apply(de_string_list)\n",
    "        g_fids = []\n",
    "        for x in df_simulation['G_FID']:\n",
    "            if x[0] not in g_fids:\n",
    "                g_fids.append(x[0])\n",
    "            if x[1] not in g_fids:\n",
    "                g_fids.append(x[1])\n",
    "        averages = {}\n",
    "        for g_fid in g_fids:\n",
    "            rv = []\n",
    "            for row in df_simulation['G_FID']:\n",
    "                if g_fid in row:\n",
    "                    temporary_df = df_simulation.loc[df_simulation['G_FID'] == row]\n",
    "                    d_distance = temporary_df['Distances'].tolist()[0][1]\n",
    "                    rv.append(d_distance)\n",
    "            averages[g_fid] = sum(rv) / len(rv)\n",
    "        writer = csv.writer(open('C:/Users/Andres/{}_average_distance.csv'.format(localidad), 'wt'))\n",
    "        for key, value in averages.items():\n",
    "            writer.writerow([str(key), value])\n",
    "        X = []\n",
    "        Y = []\n",
    "        for row in df_simulation['Distances']:\n",
    "            x = row[0]\n",
    "            y = row[1]\n",
    "            X.append(x)\n",
    "            Y.append(y)\n",
    "        OLS_results = sm.OLS(Y,X).fit()\n",
    "        beta = OLS_results.params.tolist()[0]\n",
    "        R2 = OLS_results.rsquared\n",
    "        xmax = max(X)\n",
    "        ymax = max(Y)\n",
    "        Y_sd = st.stdev(Y)\n",
    "        # Plot\n",
    "        '''\n",
    "        plt.figure(figsize=(18,12))\n",
    "        beta_label = '$\\mathrm{β}$'\n",
    "        plt.title(\"Simulation for {} >> {} = {} with R2 = {}\\n\".format(localidad, beta_label, round(beta, 5), round(R2, 5)), fontsize = 20)\n",
    "        plt.xlabel(\"Euclidean Distance\")\n",
    "        plt.ylabel(\"Dijkstra Distance\")        \n",
    "        plt.scatter(X, Y, s = 10, c = 'b', alpha=0.7)\n",
    "        plt.plot(X, X, '-')\n",
    "        X_beta = []\n",
    "        for x in X:\n",
    "            X_beta.append(x*beta)\n",
    "        plt.plot(X, X_beta, '-')\n",
    "        plt.xlim((0, xmax))\n",
    "        plt.ylim((0, ymax))\n",
    "        plt.savefig('{}_simulation.png'.format(localidad), dpi = 350)\n",
    "        plt.show()\n",
    "        '''\n",
    "        return [beta, R2, Y_sd]\n",
    "    except ValueError:\n",
    "        pass"
   ]
  },
  {
   "cell_type": "code",
   "execution_count": 5,
   "metadata": {
    "collapsed": false,
    "scrolled": true
   },
   "outputs": [],
   "source": [
    "beta_dictionary = {}\n",
    "\n",
    "for localidad in localidades_100k_dictionary.keys():\n",
    "    try:\n",
    "        beta_phi = beta_city(localidad)\n",
    "        beta = beta_phi[0]\n",
    "        sd = beta_phi[2]\n",
    "        beta_dictionary[str(localidad)] = (beta, sd)\n",
    "    except TypeError:\n",
    "        pass"
   ]
  },
  {
   "cell_type": "code",
   "execution_count": 6,
   "metadata": {
    "collapsed": false
   },
   "outputs": [
    {
     "data": {
      "text/html": [
       "<div>\n",
       "<table border=\"1\" class=\"dataframe\">\n",
       "  <thead>\n",
       "    <tr style=\"text-align: right;\">\n",
       "      <th></th>\n",
       "      <th>Beta</th>\n",
       "      <th>Localidades</th>\n",
       "      <th>SD</th>\n",
       "    </tr>\n",
       "  </thead>\n",
       "  <tbody>\n",
       "    <tr>\n",
       "      <th>0</th>\n",
       "      <td>1.788059</td>\n",
       "      <td>270040001</td>\n",
       "      <td>0.032916</td>\n",
       "    </tr>\n",
       "    <tr>\n",
       "      <th>1</th>\n",
       "      <td>1.258961</td>\n",
       "      <td>240280001</td>\n",
       "      <td>0.062208</td>\n",
       "    </tr>\n",
       "    <tr>\n",
       "      <th>2</th>\n",
       "      <td>1.221583</td>\n",
       "      <td>150330001</td>\n",
       "      <td>0.042531</td>\n",
       "    </tr>\n",
       "    <tr>\n",
       "      <th>3</th>\n",
       "      <td>1.273466</td>\n",
       "      <td>150570001</td>\n",
       "      <td>0.028086</td>\n",
       "    </tr>\n",
       "    <tr>\n",
       "      <th>4</th>\n",
       "      <td>1.280020</td>\n",
       "      <td>110200001</td>\n",
       "      <td>0.050041</td>\n",
       "    </tr>\n",
       "  </tbody>\n",
       "</table>\n",
       "</div>"
      ],
      "text/plain": [
       "       Beta Localidades        SD\n",
       "0  1.788059   270040001  0.032916\n",
       "1  1.258961   240280001  0.062208\n",
       "2  1.221583   150330001  0.042531\n",
       "3  1.273466   150570001  0.028086\n",
       "4  1.280020   110200001  0.050041"
      ]
     },
     "execution_count": 6,
     "metadata": {},
     "output_type": "execute_result"
    }
   ],
   "source": [
    "localidades = []\n",
    "betas = []\n",
    "standard_deviations = []\n",
    "for k, v in beta_dictionary.items():\n",
    "    localidades.append(k)\n",
    "    betas.append(v[0])\n",
    "    standard_deviations.append(v[1])\n",
    "\n",
    "beta_pd = pd.DataFrame({'Localidades': localidades, 'Beta': betas, 'SD': standard_deviations})\n",
    "beta_pd.head()"
   ]
  },
  {
   "cell_type": "code",
   "execution_count": 7,
   "metadata": {
    "collapsed": true
   },
   "outputs": [],
   "source": [
    "beta_pd.to_csv(\"C:\\\\Users\\\\Andres\\\\betas.csv\", index=False)"
   ]
  }
 ],
 "metadata": {
  "kernelspec": {
   "display_name": "Python 3",
   "language": "python",
   "name": "python3"
  },
  "language_info": {
   "codemirror_mode": {
    "name": "ipython",
    "version": 3
   },
   "file_extension": ".py",
   "mimetype": "text/x-python",
   "name": "python",
   "nbconvert_exporter": "python",
   "pygments_lexer": "ipython3",
   "version": "3.4.3"
  }
 },
 "nbformat": 4,
 "nbformat_minor": 0
}
